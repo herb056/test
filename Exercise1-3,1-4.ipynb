{
 "cells": [
  {
   "cell_type": "markdown",
   "metadata": {},
   "source": [
    "# 연습문제 1-3\n",
    "\n",
    "5개의 분자로 구성된 계가 있다. 몇 개 분자가 들뜨는 경우가 가장 가능한 상태이며, 그 확률은 얼마인가?"
   ]
  },
  {
   "cell_type": "markdown",
   "metadata": {},
   "source": [
    "(가) 각 분자가 들뜬 상태에 있을 확률이 $10^{-1}$ 일때"
   ]
  },
  {
   "cell_type": "markdown",
   "metadata": {},
   "source": [
    "(나) 각 분자가 들뜬 상태에 있을 확률이 $10^{-10}$ 일때"
   ]
  },
  {
   "cell_type": "code",
   "execution_count": 2,
   "metadata": {},
   "outputs": [
    {
     "name": "stdout",
     "output_type": "stream",
     "text": [
      "P(0 molecules exited)= 0.5867\n",
      "P(1 molecules exited)= 0.3283\n",
      "P(2 molecules exited)= 0.0753\n",
      "P(3 molecules exited)= 0.0091\n",
      "P(4 molecules exited)= 0.0006\n",
      "P(5 molecules exited)= 0.0\n",
      "\n"
     ]
    },
    {
     "data": {
      "image/png": "[encoded data removed]",
      "text/plain": [
       "<matplotlib.figure.Figure at 0x271b4a44e48>"
      ]
     },
     "metadata": {},
     "output_type": "display_data"
    }
   ],
   "source": [
    "#연습문제 1-3\n",
    "import numpy as np\n",
    "import matplotlib.pyplot as plt\n",
    "'''\n",
    "각 분자가 들뜬상태에 있을 확률이 1e-1\n",
    "'''\n",
    "n,p=5,1e-1\n",
    "s1=np.random.binomial(n,p,10000)\n",
    "px1=[]\n",
    "py1=[]\n",
    "for i in range(n+1):\n",
    "    print(\"P(%s molecules exited)=\"%i,sum(s1==i)/10000)\n",
    "    px1.append(i)\n",
    "    py1.append(sum(s1==i)/10000)\n",
    "print()\n",
    "\n",
    "plt.plot(px1,py1,'ro')\n",
    "plt.show()"
   ]
  },
  {
   "cell_type": "code",
   "execution_count": 3,
   "metadata": {},
   "outputs": [
    {
     "name": "stdout",
     "output_type": "stream",
     "text": [
      "P(0 molecules exited)= 1.0\n",
      "P(1 molecules exited)= 0.0\n",
      "P(2 molecules exited)= 0.0\n",
      "P(3 molecules exited)= 0.0\n",
      "P(4 molecules exited)= 0.0\n",
      "P(5 molecules exited)= 0.0\n",
      "\n"
     ]
    },
    {
     "data": {
      "image/png": "[encoded data removed]",
      "text/plain": [
       "<matplotlib.figure.Figure at 0x271b4a10780>"
      ]
     },
     "metadata": {},
     "output_type": "display_data"
    }
   ],
   "source": [
    "'''\n",
    "각 분자가 들뜬상태에 있을 확률이 1e-10\n",
    "'''\n",
    "n,p=5,1e-10\n",
    "s2=np.random.binomial(n,p,10000)\n",
    "px2=[]\n",
    "py2=[]\n",
    "for i in range(n+1):\n",
    "    print(\"P(%s molecules exited)=\"%i,sum(s2==i)/10000)\n",
    "    px2.append(i)\n",
    "    py2.append(sum(s2==i)/10000)\n",
    "print()\n",
    "\n",
    "plt.plot(px2,py2,'ro')\n",
    "plt.show()"
   ]
  },
  {
   "cell_type": "code",
   "execution_count": 4,
   "metadata": {},
   "outputs": [
    {
     "data": {
      "image/png": "[encoded data removed]",
      "text/plain": [
       "<matplotlib.figure.Figure at 0x271b4a44828>"
      ]
     },
     "metadata": {},
     "output_type": "display_data"
    }
   ],
   "source": [
    "\n",
    "'''\n",
    "histogram\n",
    "'''\n",
    "plt.figure(1)\n",
    "plt.subplot(121)\n",
    "plt.bar(px1,py1)\n",
    "plt.ylim(0,1)\n",
    "plt.xlabel('Number of excited molecules')\n",
    "plt.ylabel('Probability')\n",
    "\n",
    "plt.subplot(122)\n",
    "plt.bar(px2,py2)\n",
    "plt.xlabel('Number of excited molecules')\n",
    "plt.ylabel('Probability')\n",
    "plt.show()"
   ]
  },
  {
   "cell_type": "markdown",
   "metadata": {},
   "source": [
    "# 연습문제 1-4\n",
    "2차원 공간에서 움직이는 사람이 오른쪽으로 움직일 확률이 $p$, 위쪽으로 움직일 확률이 $q$이다. 두 방향을 제외한 왼쪽이나 아래쪽으로 움직일 확률이 $0$이라면, 이 사람은 한번 지나간 길을 다시 지나가지 않는다."
   ]
  },
  {
   "cell_type": "markdown",
   "metadata": {},
   "source": [
    "(가) $p=1/2$ 일 때 5걸음 후에 있을 곳의 위치 좌표들과 각 곳의 확률을 구해라"
   ]
  },
  {
   "cell_type": "markdown",
   "metadata": {},
   "source": [
    "(나) $p=1/4$ 일 때 5걸음 후에 있을 곳의 위치 좌표들과 각 곳의 확률을 구해라"
   ]
  },
  {
   "cell_type": "code",
   "execution_count": 5,
   "metadata": {},
   "outputs": [
    {
     "name": "stdout",
     "output_type": "stream",
     "text": [
      "P((0,5))= 0.03161\n",
      "P((1,4))= 0.15784\n",
      "P((2,3))= 0.313\n",
      "P((3,2))= 0.30925\n",
      "P((4,1))= 0.15661\n",
      "P((5,0))= 0.03169\n",
      "\n"
     ]
    },
    {
     "data": {
      "image/png": "[encoded data removed]",
      "text/plain": [
       "<matplotlib.figure.Figure at 0x271b9b8de80>"
      ]
     },
     "metadata": {},
     "output_type": "display_data"
    }
   ],
   "source": [
    "#연습문제 1-4\n",
    "'''\n",
    "p=1/2, possible positions; (5,0),(4,1),(3,2),(2,3),(1,4),(0,5)\n",
    "'''\n",
    "n,p=5,.5\n",
    "s1=np.random.binomial(n,p,100000)\n",
    "px1=[]\n",
    "py1=[]\n",
    "for i in range(n+1):\n",
    "    print(\"P((%d,%d))=\"%(i,(n-i)),sum(s1==i)/100000)\n",
    "    px1.append(i)\n",
    "    py1.append(sum(s1==i)/100000)\n",
    "print()\n",
    "\n",
    "plt.plot(px1,py1,'g^')\n",
    "plt.show()\n"
   ]
  },
  {
   "cell_type": "code",
   "execution_count": 6,
   "metadata": {},
   "outputs": [
    {
     "name": "stdout",
     "output_type": "stream",
     "text": [
      "P((0,5))= 0.23688\n",
      "P((1,4))= 0.3955\n",
      "P((2,3))= 0.26339\n",
      "P((3,2))= 0.08802\n",
      "P((4,1))= 0.0152\n",
      "P((5,0))= 0.00101\n",
      "\n"
     ]
    },
    {
     "data": {
      "image/png": "[encoded data removed]",
      "text/plain": [
       "<matplotlib.figure.Figure at 0x271b9cb57f0>"
      ]
     },
     "metadata": {},
     "output_type": "display_data"
    }
   ],
   "source": [
    "'''\n",
    "p=1/4, possible positions; (5,0),(4,1),(3,2),(2,3),(1,4),(0,5)\n",
    "'''\n",
    "n,p=5,.25\n",
    "s2=np.random.binomial(n,p,100000)\n",
    "px2=[]\n",
    "py2=[]\n",
    "for i in range(n+1):\n",
    "    print(\"P((%d,%d))=\"%(i,(n-i)),sum(s2==i)/100000)\n",
    "    px2.append(i)\n",
    "    py2.append(sum(s2==i)/100000)\n",
    "print()\n",
    "\n",
    "plt.plot(px2,py2,'g^')\n",
    "plt.show()"
   ]
  },
  {
   "cell_type": "code",
   "execution_count": 7,
   "metadata": {},
   "outputs": [
    {
     "data": {
      "image/png": "[encoded data removed]",
      "text/plain": [
       "<matplotlib.figure.Figure at 0x271b9d2bcf8>"
      ]
     },
     "metadata": {},
     "output_type": "display_data"
    }
   ],
   "source": [
    "\n",
    "'''\n",
    "histogram\n",
    "'''\n",
    "plt.figure(1)\n",
    "plt.subplot(121)\n",
    "plt.bar(px1,py1)\n",
    "plt.xlabel('Position')\n",
    "plt.ylabel('Probability')\n",
    "\n",
    "plt.subplot(122)\n",
    "plt.bar(px2,py2)\n",
    "plt.xlabel('Position')\n",
    "plt.ylabel('Probability')\n",
    "plt.show()"
   ]
  },
  {
   "cell_type": "markdown",
   "metadata": {},
   "source": [
    "# $n=20$일 때"
   ]
  },
  {
   "cell_type": "code",
   "execution_count": 8,
   "metadata": {},
   "outputs": [
    {
     "name": "stdout",
     "output_type": "stream",
     "text": [
      "P((0,20))= 0.00316\n",
      "P((1,19))= 0.02015\n",
      "P((2,18))= 0.06805\n",
      "P((3,17))= 0.13495\n",
      "P((4,16))= 0.19048\n",
      "P((5,15))= 0.20273\n",
      "P((6,14))= 0.16643\n",
      "P((7,13))= 0.11196\n",
      "P((8,12))= 0.06146\n",
      "P((9,11))= 0.02709\n",
      "P((10,10))= 0.00973\n",
      "P((11,9))= 0.00303\n",
      "P((12,8))= 0.00059\n",
      "P((13,7))= 0.00015\n",
      "P((14,6))= 3e-05\n",
      "P((15,5))= 0.0\n",
      "P((16,4))= 0.0\n",
      "P((17,3))= 1e-05\n",
      "P((18,2))= 0.0\n",
      "P((19,1))= 0.0\n",
      "P((20,0))= 0.0\n",
      "\n"
     ]
    },
    {
     "data": {
      "image/png": "[encoded data removed]",
      "text/plain": [
       "<matplotlib.figure.Figure at 0x271b9a71cc0>"
      ]
     },
     "metadata": {},
     "output_type": "display_data"
    }
   ],
   "source": [
    "'''\n",
    "n=20\n",
    "'''\n",
    "n,p=20,.25\n",
    "s2=np.random.binomial(n,p,100000)\n",
    "px2=[]\n",
    "py2=[]\n",
    "psum=[]\n",
    "for i in range(n+1):\n",
    "    print(\"P((%d,%d))=\"%(i,(n-i)),sum(s2==i)/100000)\n",
    "    px2.append(i)\n",
    "    py2.append(sum(s2==i)/100000)\n",
    "    psum.append(np.sum(py2))\n",
    "print()\n",
    "\n",
    "plt.figure(1)\n",
    "\n",
    "plt.subplot(121)\n",
    "plt.bar(px2,py2)\n",
    "plt.xlabel('Position')\n",
    "plt.ylabel('Probability')\n",
    "\n",
    "plt.subplot(122)\n",
    "plt.bar(px2,psum)\n",
    "plt.xlabel('Position')\n",
    "plt.ylabel('Summed probability')\n",
    "plt.show()"
   ]
  },
  {
   "cell_type": "code",
   "execution_count": null,
   "metadata": {},
   "outputs": [],
   "source": []
  }
 ],
 "metadata": {
  "kernelspec": {
   "display_name": "Python 3",
   "language": "python",
   "name": "python3"
  },
  "language_info": {
   "codemirror_mode": {
    "name": "ipython",
    "version": 3
   },
   "file_extension": ".py",
   "mimetype": "text/x-python",
   "name": "python",
   "nbconvert_exporter": "python",
   "pygments_lexer": "ipython3",
   "version": "3.6.4"
  }
 },
 "nbformat": 4,
 "nbformat_minor": 2
}
